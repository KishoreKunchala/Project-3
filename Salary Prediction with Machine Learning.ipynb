{
 "cells": [
  {
   "cell_type": "markdown",
   "id": "d619b5e0",
   "metadata": {},
   "source": [
    "# Salary Prediction with Machine Learning"
   ]
  },
  {
   "cell_type": "raw",
   "id": "d2a63808",
   "metadata": {},
   "source": [
    "For salary prediction, we need to find relationships in the data on how the salary is determined. For this task, we need to have a dataset based on salaries. I found a dataset that contains data about how job experience affects salary.\n",
    "\n",
    "The dataset contains two columns only:\n",
    "\n",
    "job experience\n",
    "salary"
   ]
  },
  {
   "cell_type": "raw",
   "id": "ec36b216",
   "metadata": {},
   "source": [
    "Let’s start this task by importing the necessary Python libraries and the"
   ]
  },
  {
   "cell_type": "code",
   "execution_count": 1,
   "id": "f1eeaafb",
   "metadata": {},
   "outputs": [],
   "source": [
    "import pandas as pd\n",
    "import numpy as np\n",
    "import seaborn as sns\n",
    "import matplotlib.pyplot as plt"
   ]
  },
  {
   "cell_type": "code",
   "execution_count": 2,
   "id": "23da9e1e",
   "metadata": {},
   "outputs": [
    {
     "name": "stdout",
     "output_type": "stream",
     "text": [
      "   YearsExperience   Salary\n",
      "0              1.1  39343.0\n",
      "1              1.3  46205.0\n",
      "2              1.5  37731.0\n",
      "3              2.0  43525.0\n",
      "4              2.2  39891.0\n"
     ]
    }
   ],
   "source": [
    "data=pd.read_csv(\"Salary_Data.csv\")\n",
    "print(data.head())"
   ]
  },
  {
   "cell_type": "raw",
   "id": "67ccf2f7",
   "metadata": {},
   "source": [
    "Let’s check if the dataset has any null values or not:"
   ]
  },
  {
   "cell_type": "code",
   "execution_count": 3,
   "id": "711b28b1",
   "metadata": {},
   "outputs": [
    {
     "name": "stdout",
     "output_type": "stream",
     "text": [
      "YearsExperience    0\n",
      "Salary             0\n",
      "dtype: int64\n"
     ]
    }
   ],
   "source": [
    "print(data.isnull().sum())"
   ]
  },
  {
   "cell_type": "raw",
   "id": "76e61e42",
   "metadata": {},
   "source": [
    "The dataset doesn’t have any null values. Let’s have a look at the relationship between the salary and job experience of the people:"
   ]
  },
  {
   "cell_type": "code",
   "execution_count": 4,
   "id": "c5a6153b",
   "metadata": {},
   "outputs": [
    {
     "data": {
      "image/png": "[encoded data removed]",
      "text/plain": [
       "<Figure size 432x288 with 1 Axes>"
      ]
     },
     "metadata": {
      "needs_background": "light"
     },
     "output_type": "display_data"
    }
   ],
   "source": [
    "sns.scatterplot(data=data,x='Salary',y='YearsExperience')\n",
    "plt.show()"
   ]
  },
  {
   "cell_type": "raw",
   "id": "ab8c112a",
   "metadata": {},
   "source": [
    "There is a perfect linear relationship between the salary and the job experience of the people. It means more job experience results in a higher salary."
   ]
  },
  {
   "cell_type": "markdown",
   "id": "83474626",
   "metadata": {},
   "source": [
    "# Training a Machine Learning Model\n"
   ]
  },
  {
   "cell_type": "raw",
   "id": "74e2a547",
   "metadata": {},
   "source": [
    "As this is a regression analysis problem, we will train a regression model to predict salary with Machine Learning. Here’s how we can split the data into training and test sets before training the model:"
   ]
  },
  {
   "cell_type": "code",
   "execution_count": 5,
   "id": "515346b3",
   "metadata": {},
   "outputs": [],
   "source": [
    "from sklearn.model_selection import train_test_split\n",
    "from sklearn.linear_model import LinearRegression\n",
    "\n",
    "x=data[[\"YearsExperience\"]]\n",
    "y=data[\"Salary\"]\n",
    "x_train,x_test,y_train,y_test=train_test_split(x,y,test_size=0.2,random_state=42)"
   ]
  },
  {
   "cell_type": "raw",
   "id": "8a763327",
   "metadata": {},
   "source": [
    "Now here’s how we can train the Machine Learning model:"
   ]
  },
  {
   "cell_type": "code",
   "execution_count": 6,
   "id": "4863353f",
   "metadata": {},
   "outputs": [
    {
     "data": {
      "text/plain": [
       "LinearRegression()"
      ]
     },
     "execution_count": 6,
     "metadata": {},
     "output_type": "execute_result"
    }
   ],
   "source": [
    "model = LinearRegression()\n",
    "model.fit(x_train, y_train)"
   ]
  },
  {
   "cell_type": "raw",
   "id": "acda6dda",
   "metadata": {},
   "source": [
    "Now let’s predict the salary of a person using the trained Machine Learning model:"
   ]
  },
  {
   "cell_type": "code",
   "execution_count": 7,
   "id": "d8a495f6",
   "metadata": {},
   "outputs": [
    {
     "name": "stdout",
     "output_type": "stream",
     "text": [
      "YearsExperience:2\n",
      "Predicted Salary= [44169.21365784]\n"
     ]
    },
    {
     "name": "stderr",
     "output_type": "stream",
     "text": [
      "C:\\Users\\kisho\\anaconda3\\lib\\site-packages\\sklearn\\base.py:450: UserWarning: X does not have valid feature names, but LinearRegression was fitted with feature names\n",
      "  warnings.warn(\n"
     ]
    }
   ],
   "source": [
    "a=float(input(\"YearsExperience:\"))\n",
    "features=[[a]]\n",
    "print(\"Predicted Salary=\",model.predict(features))"
   ]
  },
  {
   "cell_type": "raw",
   "id": "b555dc1d",
   "metadata": {},
   "source": [
    "So this is how you can solve the salary prediction problem"
   ]
  },
  {
   "cell_type": "code",
   "execution_count": null,
   "id": "043e5d26",
   "metadata": {},
   "outputs": [],
   "source": []
  }
 ],
 "metadata": {
  "kernelspec": {
   "display_name": "Python 3 (ipykernel)",
   "language": "python",
   "name": "python3"
  },
  "language_info": {
   "codemirror_mode": {
    "name": "ipython",
    "version": 3
   },
   "file_extension": ".py",
   "mimetype": "text/x-python",
   "name": "python",
   "nbconvert_exporter": "python",
   "pygments_lexer": "ipython3",
   "version": "3.9.12"
  }
 },
 "nbformat": 4,
 "nbformat_minor": 5
}
